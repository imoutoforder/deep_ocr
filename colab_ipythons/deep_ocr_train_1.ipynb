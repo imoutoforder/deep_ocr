{
  "nbformat": 4,
  "nbformat_minor": 0,
  "metadata": {
    "accelerator": "GPU",
    "colab": {
      "name": "deep_ocr_train.ipynb",
      "provenance": [],
      "collapsed_sections": []
    },
    "kernelspec": {
      "display_name": "Python 3",
      "name": "python3"
    },
    "language_info": {
      "name": "python"
    }
  },
  "cells": [
    {
      "cell_type": "code",
      "metadata": {
        "colab": {
          "base_uri": "https://localhost:8080/"
        },
        "id": "db73Yh8cNpch",
        "outputId": "45dc1f33-0d22-48b6-d7c7-b15dc9ec61ce"
      },
      "source": [
        "!git clone https://github.com/imoutoforder/deep_text_2.git"
      ],
      "execution_count": 1,
      "outputs": [
        {
          "output_type": "stream",
          "text": [
            "Cloning into 'deep_text_2'...\n",
            "remote: Enumerating objects: 302341, done.\u001b[K\n",
            "remote: Counting objects: 100% (35/35), done.\u001b[K\n",
            "remote: Compressing objects: 100% (28/28), done.\u001b[K\n",
            "remote: Total 302341 (delta 12), reused 21 (delta 7), pack-reused 302306\u001b[K\n",
            "Receiving objects: 100% (302341/302341), 425.46 MiB | 22.60 MiB/s, done.\n",
            "Resolving deltas: 100% (69/69), done.\n",
            "Checking out files: 100% (280243/280243), done.\n"
          ],
          "name": "stdout"
        }
      ]
    },
    {
      "cell_type": "code",
      "metadata": {
        "id": "JYb3EhXKp7DT"
      },
      "source": [
        "# %rm -rd deep_text_2/EasyOCR/trainer/all_data/fa_val/\n",
        "# %rm -rd deep_text_2/EasyOCR/trainer/all_data/\n",
        "# %rm -rd deep_text_2/.git/\n",
        "# !zip -r deep.zip ./deep_text_2/\n",
        "!cp ./deep.zip drive/MyDrive/ANN/deep.zip"
      ],
      "execution_count": 8,
      "outputs": []
    },
    {
      "cell_type": "code",
      "metadata": {
        "colab": {
          "base_uri": "https://localhost:8080/"
        },
        "id": "ghwhRpg-udbv",
        "outputId": "b6388d02-d61a-4ac3-e802-2f3fdbedad3c"
      },
      "source": [
        "#@title Default title text\n",
        "!pip install python-bidi\n",
        "!pip install arabic_reshaper\n",
        "\n"
      ],
      "execution_count": null,
      "outputs": [
        {
          "name": "stdout",
          "output_type": "stream",
          "text": [
            "Collecting python-bidi\n",
            "  Downloading python_bidi-0.4.2-py2.py3-none-any.whl (30 kB)\n",
            "Requirement already satisfied: six in /usr/local/lib/python3.7/dist-packages (from python-bidi) (1.15.0)\n",
            "Installing collected packages: python-bidi\n",
            "Successfully installed python-bidi-0.4.2\n",
            "Collecting arabic_reshaper\n",
            "  Downloading arabic_reshaper-2.1.3-py3-none-any.whl (20 kB)\n",
            "Requirement already satisfied: setuptools in /usr/local/lib/python3.7/dist-packages (from arabic_reshaper) (57.4.0)\n",
            "Requirement already satisfied: future in /usr/local/lib/python3.7/dist-packages (from arabic_reshaper) (0.16.0)\n",
            "Installing collected packages: arabic-reshaper\n",
            "Successfully installed arabic-reshaper-2.1.3\n"
          ]
        }
      ]
    },
    {
      "cell_type": "code",
      "metadata": {
        "colab": {
          "base_uri": "https://localhost:8080/"
        },
        "id": "_WJEr-eStPo1",
        "outputId": "34737f5e-7590-4242-d028-b1b3c7d8e559"
      },
      "source": [
        "%cd deep_text_2/EasyOCR/trainer/"
      ],
      "execution_count": null,
      "outputs": [
        {
          "name": "stdout",
          "output_type": "stream",
          "text": [
            "/content/deep_text_2/EasyOCR/trainer\n"
          ]
        }
      ]
    },
    {
      "cell_type": "code",
      "metadata": {
        "id": "KzsR_NcOuFwP"
      },
      "source": [
        "import os\n",
        "import torch.backends.cudnn as cudnn\n",
        "import yaml\n",
        "from train import train\n",
        "from utils import AttrDict\n",
        "import pandas as pd"
      ],
      "execution_count": null,
      "outputs": []
    },
    {
      "cell_type": "code",
      "metadata": {
        "colab": {
          "base_uri": "https://localhost:8080/"
        },
        "id": "Zr9jit0KtbdY",
        "outputId": "c919391b-26cb-4621-b80d-98558dd34d69"
      },
      "source": [
        "%ls ./all_data/fa_val/ | wc -l\n"
      ],
      "execution_count": null,
      "outputs": [
        {
          "name": "stdout",
          "output_type": "stream",
          "text": [
            "20001\n"
          ]
        }
      ]
    },
    {
      "cell_type": "code",
      "metadata": {
        "id": "VHbC8IMjuETs"
      },
      "source": [
        "cudnn.benchmark = True\n",
        "cudnn.deterministic = False"
      ],
      "execution_count": null,
      "outputs": []
    },
    {
      "cell_type": "code",
      "metadata": {
        "id": "TC8UHxa6T9UD"
      },
      "source": [
        "def get_config(file_path):\n",
        "    with open(file_path, 'r') as stream:\n",
        "        opt = yaml.safe_load(stream)\n",
        "    opt = AttrDict(opt)\n",
        "    print(opt)\n",
        "    print(opt['train_data'])\n",
        "    print(opt['select_data'])\n",
        "    if opt.lang_char == 'None':\n",
        "        characters = ''\n",
        "        for data in opt['select_data'].split('-'):\n",
        "            csv_path = os.path.join(opt['train_data'], data, 'train_data','labels.csv')\n",
        "            df = pd.read_csv(csv_path, sep='^([^,]+),', engine='python', usecols=['filename', 'words'], keep_default_na=False)\n",
        "            all_char = ''.join(df['words'])\n",
        "            characters += ''.join(set(all_char))\n",
        "        characters = sorted(set(characters))\n",
        "        opt.character= ''.join(characters)\n",
        "    else:\n",
        "        opt.character = opt.number + opt.symbol + opt.lang_char\n",
        "    os.makedirs(f'./saved_models/{opt.experiment_name}', exist_ok=True)\n",
        "    return opt\n",
        "\n"
      ],
      "execution_count": null,
      "outputs": []
    },
    {
      "cell_type": "code",
      "metadata": {
        "colab": {
          "base_uri": "https://localhost:8080/"
        },
        "id": "Lqo3MFfRg65t",
        "outputId": "3f19975d-4af5-42cd-d7e9-798f733262cd"
      },
      "source": [
        "opt = get_config(\"config_files/fa_filtered_config.yaml\")\n",
        "opt.character \n",
        "print(len(opt.character))"
      ],
      "execution_count": null,
      "outputs": [
        {
          "name": "stdout",
          "output_type": "stream",
          "text": [
            "{'number': '۱۲۳۴۵۶۷۸۹۰', 'symbol': '!\"#$%&\\'()*+,-./:;<=>?@[\\\\]^_`{|}~ €', 'lang_char': '0123456789!\"#$%&\\\\\\'()*+,-./:;<=>?@[\\\\\\\\]^_`{|}~ abcdefghijklmnopqrstuvwxyzABCDEFGHIJKLMNOPQRSTUVWXYZ٠١٢٣٤٥٦٧٨٩«»؟،؛ءآأؤإئااًبةتثجحخدذرزسشصضطظعغفقكلمنهوىيًٌٍَُِّْٰٓٔٱٹپچڈڑژکڭگںھۀہۂۃۆۇۈۋیېےۓە', 'experiment_name': 'fa_filtered', 'train_data': 'all_data', 'valid_data': 'all_data/fa_val', 'manualSeed': 1111, 'workers': 4, 'batch_size': 32, 'num_iter': 25000, 'valInterval': 5000, 'saved_model': '', 'FT': False, 'optim': False, 'lr': 1.0, 'beta1': 0.9, 'rho': 0.95, 'eps': 1e-08, 'grad_clip': 5, 'select_data': 'fa_train_filtered', 'batch_ratio': '1', 'total_data_usage_ratio': 1.0, 'batch_max_length': 34, 'imgH': 45, 'imgW': 120, 'rgb': False, 'contrast_adjust': 0.0, 'sensitive': True, 'PAD': True, 'data_filtering_off': False, 'Transformation': 'None', 'FeatureExtraction': 'ResNet', 'SequenceModeling': 'BiLSTM', 'Prediction': 'CTC', 'num_fiducial': 20, 'input_channel': 1, 'output_channel': 512, 'hidden_size': 512, 'decode': 'greedy', 'new_prediction': False, 'freeze_FeatureFxtraction': False, 'freeze_SequenceModeling': False}\n",
            "all_data\n",
            "fa_train_filtered\n",
            "230\n"
          ]
        }
      ]
    },
    {
      "cell_type": "code",
      "metadata": {
        "id": "4xnvutLdQuJ_"
      },
      "source": [
        "!apt-get install imagemagick\n",
        "!mogrify -resize 120x64! './all_data/fa_train_filtered/train_data/*.jpg'"
      ],
      "execution_count": null,
      "outputs": []
    },
    {
      "cell_type": "code",
      "metadata": {
        "id": "ss7YHK7MXufo"
      },
      "source": [
        "!mogrify -resize 120x64! './all_data/fa_val/*.jpg'"
      ],
      "execution_count": null,
      "outputs": []
    },
    {
      "cell_type": "code",
      "metadata": {
        "id": "sBTuoZhHML1w"
      },
      "source": [
        "train(opt, amp=False)"
      ],
      "execution_count": null,
      "outputs": []
    },
    {
      "cell_type": "code",
      "metadata": {
        "id": "hC8_326aZ_Su"
      },
      "source": [
        "from utils import CTCLabelConverter\n",
        "conv = CTCLabelConverter(opt.character)"
      ],
      "execution_count": null,
      "outputs": []
    },
    {
      "cell_type": "code",
      "metadata": {
        "id": "K8bC5WMIaPm4"
      },
      "source": [
        "%cp deep_text_2/EasyOCR/trainer/config_files/fa_filtered_config_old_2.yaml deep_text_2/EasyOCR/trainer/config_files/fa_filtered_config.yaml"
      ],
      "execution_count": null,
      "outputs": []
    },
    {
      "cell_type": "code",
      "metadata": {
        "colab": {
          "base_uri": "https://localhost:8080/"
        },
        "id": "PFnvzT1bzIF9",
        "outputId": "098968c7-a4b8-47a1-f4ba-d600edad4dbe"
      },
      "source": [
        "#%cd ./../../../\n",
        "!git clone https://github.com/imoutoforder/TextGenerator.git"
      ],
      "execution_count": null,
      "outputs": [
        {
          "name": "stdout",
          "output_type": "stream",
          "text": [
            "Cloning into 'TextGenerator'...\n",
            "remote: Enumerating objects: 633, done.\u001b[K\n",
            "remote: Counting objects: 100% (633/633), done.\u001b[K\n",
            "remote: Compressing objects: 100% (567/567), done.\u001b[K\n",
            "remote: Total 633 (delta 65), reused 631 (delta 63), pack-reused 0\u001b[K\n",
            "Receiving objects: 100% (633/633), 66.62 MiB | 29.66 MiB/s, done.\n",
            "Resolving deltas: 100% (65/65), done.\n"
          ]
        }
      ]
    },
    {
      "cell_type": "code",
      "metadata": {
        "colab": {
          "base_uri": "https://localhost:8080/"
        },
        "id": "v2uPPwQV2VCN",
        "outputId": "d0cb046b-544e-46f0-86ca-dc27a35c5661"
      },
      "source": [
        "%ls\n",
        "%cd ./TextGenerator/"
      ],
      "execution_count": null,
      "outputs": [
        {
          "name": "stdout",
          "output_type": "stream",
          "text": [
            "\u001b[0m\u001b[01;34mdrive\u001b[0m/  \u001b[01;34msample_data\u001b[0m/  \u001b[01;34mTextGenerator\u001b[0m/\n",
            "/content/TextGenerator\n"
          ]
        }
      ]
    },
    {
      "cell_type": "code",
      "metadata": {
        "colab": {
          "base_uri": "https://localhost:8080/"
        },
        "id": "w1JtBZbmziMv",
        "outputId": "ce202916-0c6e-4da5-9a76-d26eb074f0e4"
      },
      "source": [
        "import bidi\n",
        "import arabic_reshaper\n",
        "!python run.py -l fa -c 200000 -i fa_eval.txt -na 2 -t 4 -bl 1 -rbl --output_dir ./fa_evall\n"
      ],
      "execution_count": null,
      "outputs": [
        {
          "name": "stdout",
          "output_type": "stream",
          "text": [
            "100% 200000/200000 [11:28<00:00, 290.66it/s]\n"
          ]
        }
      ]
    },
    {
      "cell_type": "code",
      "metadata": {
        "id": "dNNsnc3ymFTh"
      },
      "source": [
        "!zip -r val.zip ./fa_evall"
      ],
      "execution_count": null,
      "outputs": []
    },
    {
      "cell_type": "code",
      "metadata": {
        "id": "LGxLrmGJmcsX"
      },
      "source": [
        "!cp ./val.zip ./../drive/MyDrive/ANN/val.zip"
      ],
      "execution_count": null,
      "outputs": []
    },
    {
      "cell_type": "code",
      "metadata": {
        "id": "RWSJpsyKqHjH"
      },
      "source": [
        "from google.colab import drive\n",
        "drive.mount('/content/drive')"
      ],
      "execution_count": null,
      "outputs": []
    },
    {
      "cell_type": "code",
      "metadata": {
        "id": "8fKNoOzCvHWz"
      },
      "source": [
        "!rm -r deep_text_2/EasyOCR/trainer/all_data/fa_train_filtered/train_data/\n",
        "!rm -r deep_text_2/EasyOCR/trainer/all_data/fa_val/\n"
      ],
      "execution_count": null,
      "outputs": []
    },
    {
      "cell_type": "code",
      "metadata": {
        "id": "Zphg1lG4wDhc"
      },
      "source": [
        "!cp drive/MyDrive/ANN/train.zip deep_text_2/EasyOCR/trainer/all_data/fa_train_filtered/\n",
        "!cp drive/MyDrive/ANN/val.zip deep_text_2/EasyOCR/trainer/all_data/"
      ],
      "execution_count": null,
      "outputs": []
    },
    {
      "cell_type": "code",
      "metadata": {
        "id": "2TeBwCMQyzad"
      },
      "source": [
        "!unzip deep_text_2/EasyOCR/trainer/all_data/fa_train_filtered/train.zip -d deep_text_2/EasyOCR/trainer/all_data/fa_train_filtered/train_data/\n",
        "!unzip deep_text_2/EasyOCR/trainer/all_data/val.zip -d deep_text_2/EasyOCR/trainer/all_data/fa_val/\n"
      ],
      "execution_count": null,
      "outputs": []
    },
    {
      "cell_type": "code",
      "metadata": {
        "id": "XUS2ZqN03veC"
      },
      "source": [
        "!rm deep_text_2/EasyOCR/trainer/all_data/fa_train_filtered/train.zip\n",
        "!rm deep_text_2/EasyOCR/trainer/all_data/val.zip"
      ],
      "execution_count": null,
      "outputs": []
    },
    {
      "cell_type": "code",
      "metadata": {
        "id": "A1iNvmSU36aE"
      },
      "source": [
        "# Modifying the labels\n",
        "# !mv -v deep_text_2/EasyOCR/trainer/all_data/fa_train_filtered/train_data/fa_train/* deep_text_2/EasyOCR/trainer/all_data/fa_train_filtered/train_data/\n",
        "import os\n",
        "import shutil\n",
        "\n",
        "root = \"deep_text_2/EasyOCR/trainer/all_data/fa_train_filtered/train_data/\"\n",
        "source = os.path.join(root, \"fa_train\")\n",
        "for it in os.listdir(source):\n",
        "  print(it)\n",
        "  shutil.move(os.path.join(source, it), os.path.join(root, it))\n",
        "  \n",
        "\n",
        "!rm -d deep_text_2/EasyOCR/trainer/all_data/fa_train_filtered/train_data/fa_train/"
      ],
      "execution_count": null,
      "outputs": []
    },
    {
      "cell_type": "code",
      "metadata": {
        "colab": {
          "background_save": true
        },
        "id": "P_zuB522P3pp"
      },
      "source": [
        "#%cd deep_text_2/\n",
        "#!git init\n",
        "# !touch .gitignore1\n",
        "# !echo EasyOCR/trainer/all_data/ > .gitignore\n",
        "# !git add --all\n",
        "# !git status -s\n",
        "!git config --local user.email \"my.dmrc@gmail.com\"\n",
        "# !git commit -m \"dataless\""
      ],
      "execution_count": null,
      "outputs": []
    },
    {
      "cell_type": "code",
      "metadata": {
        "colab": {
          "base_uri": "https://localhost:8080/"
        },
        "id": "39W0dovvV09C",
        "outputId": "ac452ee6-5e59-4b0f-cae8-27df540772f0"
      },
      "source": [
        ""
      ],
      "execution_count": null,
      "outputs": [
        {
          "name": "stdout",
          "output_type": "stream",
          "text": [
            "/bin/bash: open: command not found\n"
          ]
        }
      ]
    }
  ]
}